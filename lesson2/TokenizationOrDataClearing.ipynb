{
 "cells": [
  {
   "cell_type": "code",
   "execution_count": 66,
   "metadata": {},
   "outputs": [
    {
     "name": "stdout",
     "output_type": "stream",
     "text": [
      "92 2164\n"
     ]
    }
   ],
   "source": [
    "import os\n",
    "import json\n",
    "import pathlib\n",
    "import re\n",
    "from collections import defaultdict\n",
    "DATA = str(pathlib.Path('./').resolve()) + '/data'\n",
    "punct = re.compile(\"[:.,l!?-]+\")\n",
    "\n",
    "paths = None\n",
    "papers = []\n",
    "\n",
    "for root, dirs, files in os.walk('./data'):\n",
    "    paths = [ os.path.join(DATA, flname) for flname in files ]\n",
    "\n",
    "for path in paths:\n",
    "    with open(path, 'r', encoding='utf-8') as fh:\n",
    "        papers.extend(json.load(fh))\n",
    "    \n",
    "abstracts = [paper[\"abstract\"] for paper in papers]\n",
    "lengs = list(set([len(abs1) for abs1 in abstracts]))\n",
    "sorted(lengs)\n",
    "print(lengs[0], lengs[-1])\n",
    "\n",
    "abstracts_tok = [  re.sub(punct, \"\", abs1.replace(\"\\n\", \" \")).lower().split(\" \") for abs1 in abstracts]\n",
    "\n",
    "cnt = defaultdict(int)\n",
    "\n",
    "for abs1 in abstracts_tok:\n",
    "    for tok in abs1:\n",
    "        cnt[tok] += 1\n"
   ]
  },
  {
   "cell_type": "code",
   "execution_count": 81,
   "metadata": {},
   "outputs": [
    {
     "data": {
      "text/plain": [
       "{6: 89,\n",
       " 5: 73,\n",
       " 9: 73,\n",
       " 10: 63,\n",
       " 8: 53,\n",
       " 7: 71,\n",
       " 4: 69,\n",
       " 11: 70,\n",
       " 12: 76,\n",
       " 13: 68,\n",
       " 14: 83,\n",
       " 16: 95,\n",
       " 15: 51,\n",
       " 19: 66}"
      ]
     },
     "execution_count": 81,
     "metadata": {},
     "output_type": "execute_result"
    }
   ],
   "source": [
    "res = dict()\n",
    "for key, val in cnt.items():\n",
    "    if val < 100 and val > 50 and key.isalpha() and len(key) > 3:\n",
    "        res[len(key)] = val\n",
    "res"
   ]
  },
  {
   "cell_type": "code",
   "execution_count": 82,
   "metadata": {},
   "outputs": [],
   "source": [
    "with open(\"forwiz.json\", \"w\") as fh:\n",
    "    fh.write(json.dumps(list(res.items())))\n"
   ]
  }
 ],
 "metadata": {
  "kernelspec": {
   "display_name": "Python 3",
   "language": "python",
   "name": "python3"
  },
  "language_info": {
   "codemirror_mode": {
    "name": "ipython",
    "version": 3
   },
   "file_extension": ".py",
   "mimetype": "text/x-python",
   "name": "python",
   "nbconvert_exporter": "python",
   "pygments_lexer": "ipython3",
   "version": "3.8.10"
  }
 },
 "nbformat": 4,
 "nbformat_minor": 5
}
