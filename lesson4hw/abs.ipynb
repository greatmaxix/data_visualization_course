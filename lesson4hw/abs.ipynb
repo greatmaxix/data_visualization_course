{
 "cells": [
  {
   "cell_type": "code",
   "execution_count": null,
   "metadata": {},
   "outputs": [],
   "source": [
    "import os\n",
    "import json\n",
    "import pathlib\n",
    "import re\n",
    "from collections import defaultdict\n",
    "DATA = str(pathlib.Path('./').resolve()) + '/data'\n",
    "punct = re.compile(\"[:.,l!?-]+\")\n",
    "\n",
    "paths = None\n",
    "papers = []\n",
    "\n",
    "for root, dirs, files in os.walk('./data'):\n",
    "    paths = [ os.path.join(DATA, flname) for flname in files ]\n",
    "\n",
    "for path in paths:\n",
    "    with open(path, 'r', encoding='utf-8') as fh:\n",
    "        papers.extend(json.load(fh))\n",
    "    \n",
    "abstracts = [paper[\"abstract\"] for paper in papers]\n",
    "lengs = list(set([len(abs1) for abs1 in abstracts]))\n",
    "\n",
    "lengs\n",
    "\n",
    "with open(\"abslength.json\", \"w\") as fh:\n",
    "    fh.write(json.dumps(lengs))\n"
   ]
  }
 ],
 "metadata": {
  "language_info": {
   "name": "python"
  },
  "orig_nbformat": 4
 },
 "nbformat": 4,
 "nbformat_minor": 2
}
